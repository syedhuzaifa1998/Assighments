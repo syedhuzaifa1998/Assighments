{
 "cells": [
  {
   "cell_type": "code",
   "execution_count": 1,
   "metadata": {},
   "outputs": [
    {
     "name": "stdout",
     "output_type": "stream",
     "text": [
      "Twinkle, twinkle, little star,\n",
      "\tHow I wonder what you are!\n",
      "\t\tUp above the world so hhigh,\n",
      "\t\tLike a diamond in the sky.\n",
      "Twinkle, twinkle, little star,\n",
      "\tHow I wonder what you are\n"
     ]
    }
   ],
   "source": [
    "# Task 1\n",
    "print(\"Twinkle, twinkle, little star,\")\n",
    "print(\"\\tHow I wonder what you are!\")\n",
    "print(\"\\t\\tUp above the world so hhigh,\")\n",
    "print(\"\\t\\tLike a diamond in the sky.\")\n",
    "print(\"Twinkle, twinkle, little star,\")\n",
    "print(\"\\tHow I wonder what you are\")\n"
   ]
  },
  {
   "cell_type": "code",
   "execution_count": 2,
   "metadata": {},
   "outputs": [
    {
     "name": "stdout",
     "output_type": "stream",
     "text": [
      "Enter Radius\n",
      "\n"
     ]
    },
    {
     "name": "stdin",
     "output_type": "stream",
     "text": [
      " 3\n"
     ]
    },
    {
     "name": "stdout",
     "output_type": "stream",
     "text": [
      "Area Of a Circle \n",
      "28.278\n"
     ]
    }
   ],
   "source": [
    "\n",
    "\n",
    "# Task 2\n",
    "\n",
    "print(\"Enter Radius\\n\")\n",
    "radius=float(input())\n",
    "area=3.142*radius*radius\n",
    "print(\"Area Of a Circle \")\n",
    "print(area)\n"
   ]
  },
  {
   "cell_type": "code",
   "execution_count": 3,
   "metadata": {},
   "outputs": [
    {
     "name": "stdout",
     "output_type": "stream",
     "text": [
      "Current date and time is:\n",
      "2019-12-01||23:22:49\n"
     ]
    }
   ],
   "source": [
    "\n",
    "\n",
    "# Task 3\n",
    "\n",
    "import datetime\n",
    "now=datetime.datetime.now()\n",
    "print(\"Current date and time is:\")\n",
    "print(now.strftime(\"%Y-%m-%d||%H:%M:%S\"))\n"
   ]
  },
  {
   "cell_type": "code",
   "execution_count": 4,
   "metadata": {},
   "outputs": [
    {
     "name": "stdout",
     "output_type": "stream",
     "text": [
      "My Python Version\n",
      "3.7.4 (default, Aug  9 2019, 18:34:13) [MSC v.1915 64 bit (AMD64)]\n",
      "Version Info Is:\n",
      "sys.version_info(major=3, minor=7, micro=4, releaselevel='final', serial=0)\n"
     ]
    }
   ],
   "source": [
    "\n",
    "\n",
    "# Task 4\n",
    "\n",
    "import sys\n",
    "print(\"My Python Version\")\n",
    "print(sys.version)\n",
    "print(\"Version Info Is:\")\n",
    "print(sys.version_info)\n"
   ]
  },
  {
   "cell_type": "code",
   "execution_count": 5,
   "metadata": {},
   "outputs": [
    {
     "name": "stdout",
     "output_type": "stream",
     "text": [
      "Enter First Name\n"
     ]
    },
    {
     "name": "stdin",
     "output_type": "stream",
     "text": [
      " syed\n"
     ]
    },
    {
     "name": "stdout",
     "output_type": "stream",
     "text": [
      "Enter Last Name\n"
     ]
    },
    {
     "name": "stdin",
     "output_type": "stream",
     "text": [
      " huzaifa\n"
     ]
    },
    {
     "name": "stdout",
     "output_type": "stream",
     "text": [
      "After Reverse\n",
      "deys\n",
      "afiazuh\n"
     ]
    }
   ],
   "source": [
    "\n",
    "\n",
    "# Task 5\n",
    "\n",
    "\n",
    "def reverse_name(n):\n",
    "    if len(n) == 0:\n",
    "        return n\n",
    "    else:\n",
    "        return reverse_name(n[1:]) + n[0]\n",
    "    \n",
    "print(\"Enter First Name\")\n",
    "first=input()\n",
    "print(\"Enter Last Name\")\n",
    "last=input()\n",
    "print(\"After Reverse\")\n",
    "print(reverse_name(first))\n",
    "print(reverse_name(last))\n"
   ]
  },
  {
   "cell_type": "code",
   "execution_count": 6,
   "metadata": {},
   "outputs": [
    {
     "name": "stdout",
     "output_type": "stream",
     "text": [
      "Enter two numbers\n"
     ]
    },
    {
     "name": "stdin",
     "output_type": "stream",
     "text": [
      " 3\n",
      " 5\n"
     ]
    },
    {
     "name": "stdout",
     "output_type": "stream",
     "text": [
      "Addition Is\n",
      "8\n"
     ]
    }
   ],
   "source": [
    "\n",
    "\n",
    "# Task 6\n",
    "print(\"Enter two numbers\")\n",
    "num1=int(input())\n",
    "num2=int(input())\n",
    "print(\"Addition Is\")\n",
    "print(num1+num2)\n",
    "\n"
   ]
  },
  {
   "cell_type": "code",
   "execution_count": null,
   "metadata": {},
   "outputs": [],
   "source": [
    "\n",
    "\n"
   ]
  }
 ],
 "metadata": {
  "kernelspec": {
   "display_name": "Python 3",
   "language": "python",
   "name": "python3"
  },
  "language_info": {
   "codemirror_mode": {
    "name": "ipython",
    "version": 3
   },
   "file_extension": ".py",
   "mimetype": "text/x-python",
   "name": "python",
   "nbconvert_exporter": "python",
   "pygments_lexer": "ipython3",
   "version": "3.7.4"
  }
 },
 "nbformat": 4,
 "nbformat_minor": 4
}
