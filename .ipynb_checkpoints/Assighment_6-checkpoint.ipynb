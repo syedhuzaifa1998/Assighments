{
 "cells": [
  {
   "cell_type": "code",
   "execution_count": 13,
   "metadata": {},
   "outputs": [
    {
     "name": "stdout",
     "output_type": "stream",
     "text": [
      "Car model is : 2019\n",
      "Car color is : Grey\n"
     ]
    }
   ],
   "source": [
    "class Car:\n",
    "    model=2019\n",
    "    name=\"Mehran\"\n",
    "    color=\"Grey\"\n",
    "    company=\"Suzuki\"\n",
    "    plate_number=1029\n",
    "    \n",
    "    def fun1(abc):\n",
    "        print(\"Car model is : \"+str(abc.model))\n",
    "    def fun2(abcd):\n",
    "        print(\"Car color is : \"+str(abcd.color))\n",
    "    def fun3(abcde):\n",
    "        print(\"Car name is : \"+str(abc.name))\n",
    "        \n",
    "obj1=Car()\n",
    "obj2=Car()\n",
    "obj3=Car()\n",
    "obj4=Car()\n",
    "obj5=Car()\n",
    "\n",
    "\n",
    "obj1.fun1()\n",
    "obj2.fun2()\n",
    "\n",
    "\n",
    "\n",
    "\n",
    "    \n",
    "    "
   ]
  },
  {
   "cell_type": "code",
   "execution_count": null,
   "metadata": {},
   "outputs": [],
   "source": []
  }
 ],
 "metadata": {
  "kernelspec": {
   "display_name": "Python 3",
   "language": "python",
   "name": "python3"
  },
  "language_info": {
   "codemirror_mode": {
    "name": "ipython",
    "version": 3
   },
   "file_extension": ".py",
   "mimetype": "text/x-python",
   "name": "python",
   "nbconvert_exporter": "python",
   "pygments_lexer": "ipython3",
   "version": "3.7.4"
  }
 },
 "nbformat": 4,
 "nbformat_minor": 4
}
