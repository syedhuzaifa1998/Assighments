{
 "cells": [
  {
   "cell_type": "code",
   "execution_count": 1,
   "metadata": {},
   "outputs": [
    {
     "name": "stdout",
     "output_type": "stream",
     "text": [
      "Initially:\n",
      "\n",
      "First name\tSyed\n",
      "Last name\tHuzaifa\n",
      "Age\t21\n",
      "City\tHyderabad\n",
      "\n",
      "After updating and deleting:\n",
      "\n",
      "First name\tSyed\n",
      "Last name\tHuzaifa\n",
      "Age\t21\n",
      "City\tHyderabad\n"
     ]
    }
   ],
   "source": [
    " #Task  1\n",
    "    \n",
    "dic_1={\"First name\":\"Syed\",\"Last name\":\"Huzaifa\",\"Age\":21,\"City\":\"Hyderabad\"}\n",
    "print(\"Initially:\\n\")\n",
    "for k,v in dic_1.items():\n",
    "    print(str(k)+\"\\t\"+str(v))\n",
    "'''\n",
    "adding qualification key\n",
    "'''\n",
    "dic_1[\"Qualification\"]=\"B.E\"\n",
    "'''\n",
    "Updating qualification value to\n",
    "high academic level\n",
    "'''\n",
    "dic_1[\"Qualification\"]=\"M.E\"\n",
    "'''\n",
    "then deleting\n",
    "'''\n",
    "del dic_1[\"Qualification\"]\n",
    "print(\"\\nAfter updating and deleting:\\n\")\n",
    "for k,v in dic_1.items():\n",
    "    print(str(k)+\"\\t\"+str(v))\n",
    "\n",
    "\n",
    "\n",
    "\n",
    "    "
   ]
  },
  {
   "cell_type": "code",
   "execution_count": 6,
   "metadata": {},
   "outputs": [
    {
     "name": "stdout",
     "output_type": "stream",
     "text": [
      "\n",
      "Karachi\n",
      "{'Country': 'Pakistan', 'Population': 15741000, 'Fact': 'It is the Sixth largest city in the world by city population'}\n",
      "\n",
      "\n",
      "Adelaide\n",
      "{'Country': 'Australia', 'Population': 1328119, 'Fact': 'Adelaide is the capital city of South Australia and the fifth largest Australian capital city'}\n",
      "\n",
      "\n",
      "Colombo\n",
      "{'Country': 'Srilanka', 'Population': 606000, 'Fact': 'Colombo is the largest city of the island country of Sri Lanka'}\n",
      "\n"
     ]
    }
   ],
   "source": [
    "\n",
    "# Task 2\n",
    "\n",
    "kdic={\"Country\":\"Pakistan\",\"Population\":15741000,\"Fact\":\"It is the Sixth largest city in the world by city population\"}\n",
    "adic={\"Country\":\"Australia\",\"Population\":1328119,\"Fact\":\"Adelaide is the capital city of South Australia and the fifth largest Australian capital city\"}\n",
    "cdic={\"Country\":\"Srilanka\",\"Population\":606000,\"Fact\":\"Colombo is the largest city of the island country of Sri Lanka\"}\n",
    "\n",
    "cities_dic={\"Karachi\":kdic,\n",
    "            \"Adelaide\":adic,\n",
    "            \"Colombo\":cdic}\n",
    "for k,v in cities_dic.items():\n",
    "    print(\"\\n\"+k+\"\\n\"+str(v)+\"\\n\")\n",
    "\n"
   ]
  },
  {
   "cell_type": "code",
   "execution_count": null,
   "metadata": {},
   "outputs": [
    {
     "name": "stdout",
     "output_type": "stream",
     "text": [
      "\t\tMovie Theatre\n",
      "Enter your age\n"
     ]
    }
   ],
   "source": [
    "#Task 3\n",
    "a=0\n",
    "while(a==0):\n",
    "    print(\"\\t\\tMovie Theatre\")\n",
    "    print(\"Enter your age\")\n",
    "    age=int(input())\n",
    "    if(age>=1 and age<3):\n",
    "        print(\"Ticket Price:FREE\")\n",
    "    elif(age>3 and age<12):\n",
    "        print(\"Ticket Price:$10\")\n",
    "    elif(age>12 ):\n",
    "        print(\"Ticket Price:$15\")\n",
    "    print(\"do you want to continue.....press (y or Y)\")\n",
    "    check=input()\n",
    "    if(check=='y' or check=='Y'):\n",
    "        a=0\n",
    "    else:\n",
    "        a=1\n",
    "        print(\"Thanks for using....\")"
   ]
  },
  {
   "cell_type": "code",
   "execution_count": 3,
   "metadata": {},
   "outputs": [
    {
     "name": "stdout",
     "output_type": "stream",
     "text": [
      "One of my favourite book is Fundamentals of computer graphics\n"
     ]
    }
   ],
   "source": [
    "\n",
    "# Task 4\n",
    "\n",
    "'''\n",
    "here we defining function\n",
    "'''\n",
    "\n",
    "def book_title(title):\n",
    "    print(\"One of my favourite book is \"+title)\n",
    "\n",
    "'''\n",
    "here we calling\n",
    "\n",
    "'''\n",
    "book_title(\"Fundamentals of computer graphics\")\n",
    "\n"
   ]
  },
  {
   "cell_type": "code",
   "execution_count": 4,
   "metadata": {},
   "outputs": [
    {
     "name": "stdout",
     "output_type": "stream",
     "text": [
      "\n",
      "\n",
      "\tGuess the number\n",
      "Enter a number \n"
     ]
    },
    {
     "name": "stdin",
     "output_type": "stream",
     "text": [
      " 27\n"
     ]
    },
    {
     "name": "stdout",
     "output_type": "stream",
     "text": [
      "\ttry again.....\n",
      "Note: Hidden number is LESS then the number you entered\n",
      "Enter a number \n"
     ]
    },
    {
     "name": "stdin",
     "output_type": "stream",
     "text": [
      " 25\n"
     ]
    },
    {
     "name": "stdout",
     "output_type": "stream",
     "text": [
      "\ttry again.....\n",
      "Note: Hidden number is LESS then the number you entered\n",
      "Enter a number \n"
     ]
    },
    {
     "name": "stdin",
     "output_type": "stream",
     "text": [
      " 22\n"
     ]
    },
    {
     "name": "stdout",
     "output_type": "stream",
     "text": [
      "\n",
      "\t\tGame over!!!!\n"
     ]
    }
   ],
   "source": [
    "\n",
    "# Task 5\n",
    "\n",
    "\n",
    "\n",
    "from random import randint\n",
    "print(\"\\n\\n\\tGuess the number\")\n",
    "num1=randint(1,30)\n",
    "\n",
    "a=0\n",
    "b=3\n",
    "while (a<b):\n",
    "    print(\"Enter a number \")\n",
    "    num2=int(input())\n",
    "    if(num1==num2):\n",
    "        print(\"\\n\\t\\tYou won......!!!!\")\n",
    "        break\n",
    "    else:\n",
    "        if(a!=b-1):\n",
    "            print(\"\\ttry again.....\")\n",
    "            if(num1<num2):\n",
    "                print(\"Note: Hidden number is LESS then the number you entered\")\n",
    "            else:\n",
    "                print(\"Note: Hidden number is GREATER then the number you entered\")\n",
    "        a=a+1\n",
    "        \n",
    "if(a==3):\n",
    "    print(\"\\n\\t\\tGame over!!!!\")\n",
    "\n"
   ]
  },
  {
   "cell_type": "code",
   "execution_count": null,
   "metadata": {},
   "outputs": [],
   "source": []
  }
 ],
 "metadata": {
  "kernelspec": {
   "display_name": "Python 3",
   "language": "python",
   "name": "python3"
  },
  "language_info": {
   "codemirror_mode": {
    "name": "ipython",
    "version": 3
   },
   "file_extension": ".py",
   "mimetype": "text/x-python",
   "name": "python",
   "nbconvert_exporter": "python",
   "pygments_lexer": "ipython3",
   "version": "3.7.4"
  }
 },
 "nbformat": 4,
 "nbformat_minor": 4
}
