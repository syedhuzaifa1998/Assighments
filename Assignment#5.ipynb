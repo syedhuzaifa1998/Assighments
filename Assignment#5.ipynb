{
 "cells": [
  {
   "cell_type": "code",
   "execution_count": null,
   "metadata": {},
   "outputs": [],
   "source": [
    "#Q_1;\n",
    "def fact(n):\n",
    "    i=1\n",
    "    f=1\n",
    "    while i<=n:\n",
    "        f=f*i\n",
    "        i=i+1\n",
    "    print(\"Factorial if the given number is \",f)\n",
    "\n",
    "a=int(input(\"Enter a number\"))\n",
    "fact(a)    \n",
    "    "
   ]
  },
  {
   "cell_type": "code",
   "execution_count": 13,
   "metadata": {},
   "outputs": [
    {
     "name": "stdout",
     "output_type": "stream",
     "text": [
      "Original String :  Hello World\n",
      "No. of Upper case characters :  2\n",
      "No. of Lower case Characters :  8\n"
     ]
    }
   ],
   "source": [
    "#Q_2;\n",
    "\n",
    "def cal_str(s):\n",
    "    count_upper=0\n",
    "    count_lower=0\n",
    "    for c in s:\n",
    "        if c.isupper():\n",
    "           count_upper+=1\n",
    "        elif c.islower():\n",
    "           count_lower+=1\n",
    "        else:\n",
    "           pass\n",
    "    print (\"Original String : \", s)\n",
    "    print (\"No. of Upper case characters : \", count_upper)\n",
    "    print (\"No. of Lower case Characters : \", count_lower)\n",
    "        \n",
    "cal_str('Hello World')"
   ]
  },
  {
   "cell_type": "code",
   "execution_count": 15,
   "metadata": {},
   "outputs": [
    {
     "name": "stdout",
     "output_type": "stream",
     "text": [
      "2\n",
      "4\n",
      "66\n",
      "78\n",
      "90\n",
      "34\n"
     ]
    }
   ],
   "source": [
    "#Q_3;\n",
    "def eve_Or_odd():\n",
    "    list=[1,2,3,4,66,7,78,9,90,23,34,45]\n",
    "    for i in list:\n",
    "        if i%2==0:\n",
    "            print(i)\n",
    "        \n",
    "eve_Or_odd()"
   ]
  },
  {
   "cell_type": "code",
   "execution_count": 16,
   "metadata": {},
   "outputs": [
    {
     "name": "stdout",
     "output_type": "stream",
     "text": [
      "True\n"
     ]
    }
   ],
   "source": [
    "#Q_4;\n",
    "def isPalindrome(string):\n",
    "    left_pos = 0\n",
    "    right_pos = len(string) - 1\n",
    "    \n",
    "    while right_pos >= left_pos:\n",
    "        if not string[left_pos] == string[right_pos]:\n",
    "            return False\n",
    "        left_pos += 1\n",
    "        right_pos -= 1\n",
    "    return True\n",
    "print(isPalindrome('madam')) \n"
   ]
  },
  {
   "cell_type": "code",
   "execution_count": 45,
   "metadata": {},
   "outputs": [
    {
     "name": "stdout",
     "output_type": "stream",
     "text": [
      "Enter any number: 47\n"
     ]
    },
    {
     "data": {
      "text/plain": [
       "True"
      ]
     },
     "execution_count": 45,
     "metadata": {},
     "output_type": "execute_result"
    }
   ],
   "source": [
    "#Q_5;\n",
    "a=int(input(\"Enter any number: \"))\n",
    "def isprime(n):\n",
    "    if (n==1):\n",
    "        return False\n",
    "    elif (n==2):\n",
    "        return True;\n",
    "    else:\n",
    "        for x in range(2,n):\n",
    "            if(n % x==0):\n",
    "                return False\n",
    "        return True   \n",
    "isprime(a)"
   ]
  },
  {
   "cell_type": "code",
   "execution_count": 47,
   "metadata": {},
   "outputs": [
    {
     "name": "stdout",
     "output_type": "stream",
     "text": [
      "following are the items user bought from market.\n",
      "Apples\n",
      "Grapes\n",
      "Oranges\n",
      "Bananas\n"
     ]
    }
   ],
   "source": [
    "#Q_6;\n",
    "def func(*item):\n",
    "    print(\"following are the items user bought from market.\")\n",
    "    for i in item:\n",
    "        print(i)\n",
    "\n",
    "func('Apples','Grapes','Oranges','Bananas')"
   ]
  },
  {
   "cell_type": "code",
   "execution_count": null,
   "metadata": {},
   "outputs": [],
   "source": []
  }
 ],
 "metadata": {
  "kernelspec": {
   "display_name": "Python 3",
   "language": "python",
   "name": "python3"
  },
  "language_info": {
   "codemirror_mode": {
    "name": "ipython",
    "version": 3
   },
   "file_extension": ".py",
   "mimetype": "text/x-python",
   "name": "python",
   "nbconvert_exporter": "python",
   "pygments_lexer": "ipython3",
   "version": "3.7.4"
  }
 },
 "nbformat": 4,
 "nbformat_minor": 4
}
