{
 "cells": [
  {
   "cell_type": "code",
   "execution_count": null,
   "metadata": {},
   "outputs": [
    {
     "name": "stdout",
     "output_type": "stream",
     "text": [
      "Calculator\n",
      "Enter 1st number\n"
     ]
    }
   ],
   "source": [
    "# Task 1\n",
    "print(\"Calculator\")\n",
    "a=0\n",
    "\n",
    "print(\"Enter 1st number\")\n",
    "num1=float(input())\n",
    "print(\"Enter 2nd number\")\n",
    "num2=float(input())\n",
    "print(\"Press 1 for addition\")\n",
    "print(\"Press 2 for subtraction\")\n",
    "print(\"Press 3 for division\")\n",
    "print(\"Press 4 for multipilication\")\n",
    "print(\"Press 5 for power\")\n",
    "print(\"Note: for power 1st number for base and 2nd for power\")\n",
    "check=int(input())\n",
    "if(check==1):\n",
    "    print(\"Result is: \"+str(num1+num2))\n",
    "elif(check==2):\n",
    "    print(\"Result is: \"+str(num1-num2))\n",
    "elif(check==3):\n",
    "    print(\"Result is: \"+str(num1/num2))\n",
    "elif(check==4):\n",
    "    print(\"Result is: \"+str(num1*num2))\n",
    "elif(check==5):\n",
    "    p1=pow(num1,num2)\n",
    "    print(\"Result is: \"+str(p1))\n",
    "\n",
    "    \n",
    "\n",
    "\n",
    "\n"
   ]
  },
  {
   "cell_type": "code",
   "execution_count": null,
   "metadata": {},
   "outputs": [],
   "source": [
    "# Task 3\n",
    "\n",
    "temp_dictionary = {'Hh': 27, 'Ss': 98}\n",
    "print(temp_dictionary)\n",
    "temp_dictionary['Hh'] = 12  \n",
    "temp_dictionary['Ss'] = 33  \n",
    "temp_dictionary['Yy'] = 4\n",
    "print(temp_dictionary)\n",
    "\n"
   ]
  },
  {
   "cell_type": "code",
   "execution_count": 2,
   "metadata": {},
   "outputs": [
    {
     "name": "stdout",
     "output_type": "stream",
     "text": [
      "850\n"
     ]
    }
   ],
   "source": [
    "# Task 4\n",
    "my_dic={'Ajay':200,\"Huzaifa\":150,\"Talha\":500}\n",
    "temp1=0\n",
    "\n",
    "for t1 in my_dic:\n",
    "    temp1=temp1+my_dic[t1]\n",
    "print(temp1)\n"
   ]
  },
  {
   "cell_type": "code",
   "execution_count": 3,
   "metadata": {},
   "outputs": [
    {
     "name": "stdout",
     "output_type": "stream",
     "text": [
      "list have duplicate elements\n"
     ]
    }
   ],
   "source": [
    "# Task 5\n",
    "def duplicate(list1):\n",
    "    # Check if given list contains any duplicates \n",
    "    if len(list1) == len(set(list1)):\n",
    "        return False\n",
    "    else:\n",
    "        return True\n",
    "\n",
    "list1 = [\"Syed\", \"Shaikh\", 'ali', 55, 45, \"Syed\"]\n",
    " \n",
    "result = duplicate(list1)\n",
    " \n",
    "if result:\n",
    "    print('list have duplicate elements')\n",
    "else:\n",
    "    print('list have no duplicate elements')"
   ]
  },
  {
   "cell_type": "code",
   "execution_count": null,
   "metadata": {},
   "outputs": [],
   "source": [
    "\n",
    "# Task 6\n",
    "def findK(d1, k1): \n",
    "      \n",
    "    if k1 in d1.keys(): \n",
    "        print(\"Given KEY is present\", end =\" \") \n",
    "        print(\"key Value is:\",d1[k1]) \n",
    "    else: \n",
    "        print(\"Given KEY is not present\") \n",
    "  \n",
    "\n",
    "d1 = {'Abd': 2100, 'AJ':20, 'Faaiz':1300} \n",
    "  \n",
    "k1 = 'AJ'\n",
    "findK(d1, k1)\n"
   ]
  }
 ],
 "metadata": {
  "kernelspec": {
   "display_name": "Python 3",
   "language": "python",
   "name": "python3"
  },
  "language_info": {
   "codemirror_mode": {
    "name": "ipython",
    "version": 3
   },
   "file_extension": ".py",
   "mimetype": "text/x-python",
   "name": "python",
   "nbconvert_exporter": "python",
   "pygments_lexer": "ipython3",
   "version": "3.7.4"
  }
 },
 "nbformat": 4,
 "nbformat_minor": 4
}
