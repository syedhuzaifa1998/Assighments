{
 "cells": [
  {
   "cell_type": "code",
   "execution_count": null,
   "metadata": {},
   "outputs": [
    {
     "name": "stdout",
     "output_type": "stream",
     "text": [
      "\n",
      "\n",
      "\t\t\tSmart marksheet generator\n",
      "Enter Engrlish marks\n"
     ]
    }
   ],
   "source": [
    "# Task 1\n",
    "\n",
    "print(\"\\n\\n\\t\\t\\tSmart marksheet generator\")\n",
    "print(\"Enter Engrlish marks\")\n",
    "english=float(input())\n",
    "print(\"Enter Maths marks\")\n",
    "maths=float(input())\n",
    "print(\"Enter Physics marks\")\n",
    "physics=float(input())\n",
    "print(\"Enter Chemistry marks\")\n",
    "chemistry=float(input())\n",
    "print(\"Enter Urdu marks\")\n",
    "urdu=float(input())\n",
    "total=english+maths+physics+chemistry+urdu\n",
    "per=(total/500)*100\n",
    "print(\"\\t**********************************************************\")\n",
    "print(\"\\t*                     Annual Exam Result                 *\")\n",
    "print(\"\\t**********************************************************\")\n",
    "print(\"\\t*Subjects              Total marks          Obtained marks\")\n",
    "print(\"\\t**********************************************************\")\n",
    "print(\"\\tEnglish                  100            \"+\"\\t\"+str(english))\n",
    "print(\"\\tMaths                    100            \"+\"\\t\"+str(maths))\n",
    "print(\"\\tPhysics                  100            \"+\"\\t\"+str(physics))\n",
    "print(\"\\tChemistry                100            \"+\"\\t\"+str(chemistry))\n",
    "print(\"\\tUrdu                     100            \"+\"\\t\"+str(urdu))\n",
    "print(\"\\t**********************************************************\")\n",
    "print(\"\\tTotal                    500            \"+\"\\t\"+str(total))\n",
    "print(\"\\tPercentage :\"+str(per))\n",
    "if(per>=85 and per<=100):\n",
    "    print(\"\\tGrade      :A+\")\n",
    "elif(per>=75 and per<85):\n",
    "    print(\"\\tGrade      :A\")\n",
    "elif(per>=65 and per<75):\n",
    "    print(\"\\tGrade      :B+\") \n",
    "elif(per>=55 and per<65):\n",
    "    print(\"\\tGrade      :B\")\n",
    "elif(per<50):\n",
    "    print(\"\\tYou are FAIL!!!\")\n",
    "    "
   ]
  },
  {
   "cell_type": "code",
   "execution_count": 2,
   "metadata": {},
   "outputs": [
    {
     "name": "stdout",
     "output_type": "stream",
     "text": [
      "Enter any number \n"
     ]
    },
    {
     "name": "stdin",
     "output_type": "stream",
     "text": [
      " 5\n"
     ]
    },
    {
     "name": "stdout",
     "output_type": "stream",
     "text": [
      "Number Is ODD\n"
     ]
    }
   ],
   "source": [
    "\n",
    "# Task 2\n",
    "print(\"Enter any number \")\n",
    "num1=int(input())\n",
    "if(num1==0):\n",
    "    print(\"Neither EVEN nor ODD\")\n",
    "if(num1%2==0 and num1!=0):\n",
    "    print(\"Number Is EVEN\")\n",
    "if(num1%2!=0 and num1!=0):\n",
    "    print(\"Number Is ODD\")\n",
    "\n",
    "\n",
    "    \n"
   ]
  },
  {
   "cell_type": "code",
   "execution_count": 3,
   "metadata": {},
   "outputs": [
    {
     "name": "stdout",
     "output_type": "stream",
     "text": [
      "Length Of list :4\n"
     ]
    }
   ],
   "source": [
    "\n",
    "\n",
    "# Task 3\n",
    "\n",
    "\n",
    "arr=[\"Hh\",\"Gg\",\"Yy\",\"Kk\"]\n",
    "print(\"Length Of list :\"+str(len(arr)))\n",
    "\n",
    "\n"
   ]
  },
  {
   "cell_type": "code",
   "execution_count": 6,
   "metadata": {},
   "outputs": [
    {
     "name": "stdout",
     "output_type": "stream",
     "text": [
      "136\n"
     ]
    }
   ],
   "source": [
    "\n",
    "\n",
    "# Task 4\n",
    "\n",
    "num_list=[24,12,56,44]\n",
    "\n",
    "temp1=0\n",
    "a=0\n",
    "while(a<len(num_list)):\n",
    "    temp1=temp1+num_list[a]\n",
    "    a=a+1\n",
    "print(temp1)\n",
    "\n",
    "\n",
    "\n"
   ]
  },
  {
   "cell_type": "code",
   "execution_count": 5,
   "metadata": {},
   "outputs": [
    {
     "name": "stdout",
     "output_type": "stream",
     "text": [
      "\n",
      "1\n",
      "\n",
      "1\n",
      "\n",
      "2\n",
      "\n",
      "3\n"
     ]
    }
   ],
   "source": [
    "    \n",
    "    \n",
    "    \n",
    "\n",
    "# Task 6\n",
    "\n",
    "\n",
    "temp_list=[1,1,2,3,5,8,13,21,34,55,89]\n",
    "a=0\n",
    "b=0\n",
    "while(a<len(temp_list)):\n",
    "    if(temp_list[a]<5):\n",
    "        if(temp_list==b):\n",
    "            print(\"\\n\"+str(temp_list[a]))\n",
    "        else:\n",
    "            print(\"\\n\"+str(temp_list[a]))\n",
    "            b=temp_list[a]\n",
    "        \n",
    "        \n",
    "    a=a+1\n",
    "    "
   ]
  },
  {
   "cell_type": "code",
   "execution_count": 7,
   "metadata": {},
   "outputs": [
    {
     "name": "stdout",
     "output_type": "stream",
     "text": [
      "Largest number is :56\n"
     ]
    }
   ],
   "source": [
    "\n",
    "\n",
    "# Task 5\n",
    "num_list=[24,12,56,44]\n",
    "\n",
    "temp1=1\n",
    "a=0\n",
    "while(a<len(num_list)):\n",
    "    if(num_list[a]>temp1):\n",
    "        temp1=num_list[a]\n",
    "    a=a+1\n",
    "print(\"Largest number is :\"+str(temp1))\n",
    "    "
   ]
  },
  {
   "cell_type": "code",
   "execution_count": null,
   "metadata": {},
   "outputs": [],
   "source": []
  }
 ],
 "metadata": {
  "kernelspec": {
   "display_name": "Python 3",
   "language": "python",
   "name": "python3"
  },
  "language_info": {
   "codemirror_mode": {
    "name": "ipython",
    "version": 3
   },
   "file_extension": ".py",
   "mimetype": "text/x-python",
   "name": "python",
   "nbconvert_exporter": "python",
   "pygments_lexer": "ipython3",
   "version": "3.7.4"
  }
 },
 "nbformat": 4,
 "nbformat_minor": 4
}
